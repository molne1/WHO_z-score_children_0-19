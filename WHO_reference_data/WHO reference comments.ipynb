{
 "cells": [
  {
   "cell_type": "markdown",
   "id": "424948be",
   "metadata": {},
   "source": [
    "## Standardization of WHO references for 0-19 years \n",
    "\n",
    "There are two reference standards 0-5 years and 5-19 years.\n",
    "\n",
    "\n",
    "Download 0-5 here: https://www.who.int/toolkits/child-growth-standards/standards/body-mass-index-for-age-bmi-for-age\n",
    "I used the file: Girls z-scores: expanded tables (BMI-for-age) & Boys z-scores: expanded tables (BMI-for-age)\n",
    "\n",
    "    Days =  0-1851\n",
    "\n",
    "Download 5-19 here: https://www.who.int/tools/growth-reference-data-for-5to19-years/indicators/bmi-for-age\n",
    "I used the file: z-scores: girls [xlsx, 27kb] & z-scores: boys [xlsx, 27kb]\n",
    "\n",
    "    Months = 61-228\n",
    "\n",
    "\n",
    "and here are the instructions: \n",
    "https://cdn.who.int/media/docs/default-source/child-growth/growth-reference-5-19-years/computation.pdf?sfvrsn=c2ff6a95_4\n"
   ]
  },
  {
   "cell_type": "markdown",
   "id": "0c894c1a",
   "metadata": {},
   "source": [
    "#### Standardization for reference population \n",
    "To standardize for reference population, a common \" age\" was needed. I choose to standardize it to \"months\". This looses the granuality of days, but makes it possible to have the two references together\n",
    "\n",
    "I used the WHO reference for the conversion: https://cdn.who.int/media/docs/default-source/child-growth/child-growth-standards/indicators/instructions-en.pdf?sfvrsn=5cec8c61_23\n",
    "\n",
    "1 month = 30.4375 days \n",
    "\n",
    "\n",
    "\n",
    "#### Below is the process "
   ]
  },
  {
   "cell_type": "markdown",
   "id": "f588f05d",
   "metadata": {},
   "source": [
    "### Standardizing 0-5 years "
   ]
  },
  {
   "cell_type": "code",
   "execution_count": 1,
   "id": "10201c71",
   "metadata": {},
   "outputs": [],
   "source": [
    "# Import downloaded refernces\n",
    "import pandas as pd\n",
    "\n",
    "\n",
    "# WHO <5 years  \n",
    "WHO5_boy = pd.read_excel(\"../bfa-boys-zscore-expanded-tables.xlsx\")  \n",
    "WHO5_girl =  pd.read_excel(\"../bfa-girls-zscore-expanded-tables.xlsx\") \n",
    "\n",
    "#  WHO 5-19\n",
    "WHO19_boy = pd.read_excel(\"../bmi-boys-z-who-2007-exp.xlsx\")\n",
    "WHO19_girl = pd.read_excel(\"../bmi-girls-z-who-2007-exp.xlsx\")\n"
   ]
  },
  {
   "cell_type": "code",
   "execution_count": 2,
   "id": "fc6fcfe4",
   "metadata": {},
   "outputs": [
    {
     "name": "stdout",
     "output_type": "stream",
     "text": [
      "[30, 61, 91, 121, 152, 182, 212, 243, 273, 303, 334, 364, 395, 425, 455, 486, 516, 546, 577, 607, 637, 668, 698, 728, 759, 789, 819, 850, 880, 910, 941, 971, 1001, 1032, 1062, 1093, 1123, 1153, 1184, 1214, 1244, 1275, 1305, 1335, 1366, 1396, 1426, 1457, 1487, 1517, 1548, 1578, 1608, 1639, 1669, 1699, 1730, 1760, 1791, 1821, 1851]\n",
      "[0, 30, 61, 91, 121, 152, 182, 212, 243, 273, 303, 334, 364, 395, 425, 455, 486, 516, 546, 577, 607, 637, 668, 698, 728, 759, 789, 819, 850, 880, 910, 941, 971, 1001, 1032, 1062, 1093, 1123, 1153, 1184, 1214, 1244, 1275, 1305, 1335, 1366, 1396, 1426, 1457, 1487, 1517, 1548, 1578, 1608, 1639, 1669, 1699, 1730, 1760, 1791, 1821, 1851]\n"
     ]
    }
   ],
   "source": [
    "# First I determined which days would correspond to what month \n",
    "\n",
    "month_conversion = 30.3475 \n",
    "months, rows_to_get_no_zero = [], []\n",
    "\n",
    "for i in range(0, 61):  # 61 months = 5 years and 1 month \n",
    "    month = i + 1\n",
    "    months.append(month)\n",
    "    \n",
    "    month_in_df = int(round(month_conversion * month, 0))\n",
    "    rows_to_get_no_zero.append(month_in_df)\n",
    "    \n",
    "    \n",
    "print(rows_to_get_no_zero)\n",
    "\n",
    "\n",
    "# I included month 0 manually \n",
    "\n",
    "x = 0\n",
    "xs = rows_to_get_no_zero\n",
    "rows_to_get =[x] + xs\n",
    "\n",
    "print(rows_to_get)\n"
   ]
  },
  {
   "cell_type": "code",
   "execution_count": 3,
   "id": "bbd2d0c8",
   "metadata": {},
   "outputs": [],
   "source": [
    "# Extract  days that corresponded to months \n",
    "\n",
    "WHO5_girl_months = WHO5_girl[WHO5_girl['Day'].isin(rows_to_get)]\n",
    "WHO5_boy_months = WHO5_boy[WHO5_boy['Day'].isin(rows_to_get)]\n"
   ]
  },
  {
   "cell_type": "code",
   "execution_count": 9,
   "id": "427208a1",
   "metadata": {},
   "outputs": [],
   "source": [
    "# Replace day with month using a new index  \n",
    "\n",
    "WHO5_girl_months.reset_index(inplace =True, drop=True)\n",
    "WHO5_girl_months.loc[:, \"Months\"] = WHO5_girl_months.index\n",
    "\n",
    "\n",
    "WHO5_boy_months.reset_index(inplace=True, drop=True)\n",
    "WHO5_boy_months.loc[:, \"Months\"] = WHO5_boy_months.index\n",
    "\n",
    "# Save files to be used as references \n",
    "\n",
    "WHO5_girl_months.to_csv(\"WHO_girl_reference_below_5_years.csv\")\n",
    "WHO5_boy_months.to_csv(\"WHO_boy_reference_below_5_years.csv\")\n"
   ]
  },
  {
   "cell_type": "markdown",
   "id": "27b187d3",
   "metadata": {},
   "source": [
    "### Standardize 5-19 years\n",
    "Replace \"Month\" with \"Months\" "
   ]
  },
  {
   "cell_type": "code",
   "execution_count": 5,
   "id": "3e16c4eb",
   "metadata": {},
   "outputs": [],
   "source": [
    "# standardise column name for age \n",
    "WHO19_boy = WHO19_boy.rename(columns={\"Month\": \"Months\"})\n",
    "WHO19_girl = WHO19_girl.rename(columns={\"Month\": \"Months\"})\n",
    "\n",
    "\n",
    "# save to csv\n",
    "WHO19_boy.to_csv(\"WHO_boy_reference_above_5_years.csv\")\n",
    "WHO19_girl.to_csv(\"WHO_girl_reference_above_5_years.csv\") \n"
   ]
  }
 ],
 "metadata": {
  "kernelspec": {
   "display_name": "Python 3 (ipykernel)",
   "language": "python",
   "name": "python3"
  },
  "language_info": {
   "codemirror_mode": {
    "name": "ipython",
    "version": 3
   },
   "file_extension": ".py",
   "mimetype": "text/x-python",
   "name": "python",
   "nbconvert_exporter": "python",
   "pygments_lexer": "ipython3",
   "version": "3.10.11"
  }
 },
 "nbformat": 4,
 "nbformat_minor": 5
}
