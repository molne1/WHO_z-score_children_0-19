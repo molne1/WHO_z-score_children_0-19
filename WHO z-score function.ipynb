{
 "cells": [
  {
   "cell_type": "markdown",
   "id": "ed8451ca",
   "metadata": {},
   "source": [
    "## Function to calculate BMI  z-score's for children \n",
    "\n",
    "LMS calculation for the BMI z-score \n",
    "\n",
    "Link to formulas used in the function: https://cdn.who.int/media/docs/default-source/child-growth/growth-reference-5-19-years/computation.pdf?sfvrsn=c2ff6a95_4 \n",
    "\n",
    "All calculations are with age(months), weight(kg), height(cm)\n",
    "\n",
    "You must have downloaded the reference sheets and not changed name on them\n",
    "\n",
    "\n",
    "\n",
    "For the function to work your dataframe must be called \"df\". \n",
    "\n",
    "You must have following columns named in the correct format \"age\", \"sex\", \"weight\", \"height\". \n",
    "\n",
    "You must NOT have a column named \"BMI\" in your intial dataframe\n",
    "\n",
    "\n",
    "\n",
    "The function will create three new columns: BMI, reference sheet used, and z-score\n",
    "\n",
    "\n",
    "\n",
    "Now you can load the function and go! \n",
    "\n"
   ]
  },
  {
   "cell_type": "code",
   "execution_count": 1,
   "id": "761aba39",
   "metadata": {},
   "outputs": [],
   "source": [
    "import pandas as pd"
   ]
  },
  {
   "cell_type": "code",
   "execution_count": 12,
   "id": "39f272dd",
   "metadata": {},
   "outputs": [],
   "source": [
    "## Create WHO z-scores for children 0-19 years old\n",
    "def zscore(df): \n",
    "    \n",
    "    # create BMI column \n",
    "    weight = df['weight']\n",
    "    height = (df['height']/100)\n",
    "    BMI = []\n",
    "    BMI = weight/(height**2)\n",
    "    df['BMI'] = round(BMI,2)\n",
    "     \n",
    "    # this is the criteria for above/below 5 years in months (60 months = 5 years )\n",
    "    age_5years = 60             \n",
    "\n",
    "    # this is a for-loop to iterate through every single line of the dataframe \n",
    "    for index, row in df.iterrows():  \n",
    "\n",
    "    # create new columns to save in \n",
    "        df.at[index, 'reference_sheet'] = \"\"\n",
    "        df.at[index, 'zscore'] = \"\"\n",
    "\n",
    "    # save parameters for calculations    \n",
    "        reference_sheet = []\n",
    "        age = row['age'] #\n",
    "        sex = row['sex']\n",
    "        BMI = row['BMI'] # this one is for the z-score calculation \n",
    "\n",
    "    # decide what reference material and prepare to get the values you need from it (boy/girl, above/below 5years)\n",
    "        if age > age_5years:\n",
    "            if sex == 'boy':\n",
    "                reference = pd.read_csv(\"data/WHO boy reference above 5 years.csv\")\n",
    "                reference_sheet = ['Boy above 5']                         # Tell us what reference sheet I got\n",
    "\n",
    "            else: \n",
    "                reference = pd.read_csv(\"WHO girl reference above 5 years.csv\")\n",
    "                reference_sheet = ['Girl above 5']\n",
    "\n",
    "\n",
    "        else:\n",
    "            if sex == 'boy':\n",
    "                reference = pd.read_csv(\"WHO boy reference below 5 years.csv\")\n",
    "                reference_sheet = [\"Boy below 5\"]\n",
    "\n",
    "\n",
    "            else:\n",
    "                reference = pd.read_csv(\"WHO girl reference below 5 years.csv\")\n",
    "                reference_sheet = [\"Girl below 5\"]\n",
    "                \n",
    "\n",
    "    # Extract LMS values \n",
    "        individual_reference = reference[reference[\"Months\"] == age]\n",
    "        L = float(individual_reference[\"L\"].iloc[0])              \n",
    "        M = float(individual_reference[\"M\"].iloc[0])\n",
    "        S = float(individual_reference[\"S\"].iloc[0])        \n",
    "        SD3pos = round((M*((1+L*S*3)** (1 / L))),3)\n",
    "        SD23pos= (M * ((1 + L * S * 3) ** (1 / L))) - (M * ((1 + L * S * 2) ** (1 / L)))\n",
    "        SD3neg = round((M*((1+L*S*(-3))** (1 / L))),3)\n",
    "        SD23neg= (M * ((1 + L * S * (-2)) ** (1 / L))) - (M * ((1 + L * S * (-3)) ** (1 / L)))\n",
    "\n",
    "    # Calculate z-score \n",
    "        zscore = (((BMI/M)**L) -1)/(S*L)\n",
    "        if zscore > 3:\n",
    "            zscore == 3+((BMI-SD3pos)/SD23pos)\n",
    "        if zscore <-3:\n",
    "            zscore == -3+((BMI-SD3neg)/SD23neg)\n",
    "\n",
    "            \n",
    "    # save the reference sheet you used and the z-score you calculated \n",
    "        df.at[index, 'reference_sheet'] = reference_sheet\n",
    "        df.at[index, 'zscore'] = zscore\n",
    "    return df "
   ]
  },
  {
   "cell_type": "code",
   "execution_count": 13,
   "id": "81299ac9",
   "metadata": {},
   "outputs": [
    {
     "ename": "NameError",
     "evalue": "name 'df' is not defined",
     "output_type": "error",
     "traceback": [
      "\u001b[1;31m---------------------------------------------------------------------------\u001b[0m",
      "\u001b[1;31mNameError\u001b[0m                                 Traceback (most recent call last)",
      "Cell \u001b[1;32mIn[13], line 2\u001b[0m\n\u001b[0;32m      1\u001b[0m \u001b[38;5;66;03m# run function \u001b[39;00m\n\u001b[1;32m----> 2\u001b[0m zscore(\u001b[43mdf\u001b[49m)\n",
      "\u001b[1;31mNameError\u001b[0m: name 'df' is not defined"
     ]
    }
   ],
   "source": [
    "# run function \n",
    "zscore(df)"
   ]
  }
 ],
 "metadata": {
  "kernelspec": {
   "display_name": "Python 3 (ipykernel)",
   "language": "python",
   "name": "python3"
  },
  "language_info": {
   "codemirror_mode": {
    "name": "ipython",
    "version": 3
   },
   "file_extension": ".py",
   "mimetype": "text/x-python",
   "name": "python",
   "nbconvert_exporter": "python",
   "pygments_lexer": "ipython3",
   "version": "3.10.11"
  }
 },
 "nbformat": 4,
 "nbformat_minor": 5
}
